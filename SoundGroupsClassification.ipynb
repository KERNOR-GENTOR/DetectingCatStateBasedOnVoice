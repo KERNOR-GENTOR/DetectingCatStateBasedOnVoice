{
 "cells": [
  {
   "cell_type": "markdown",
   "id": "952e6549",
   "metadata": {},
   "source": [
    "#### Nuget Packages"
   ]
  },
  {
   "cell_type": "code",
   "execution_count": null,
   "id": "fb99a919",
   "metadata": {},
   "outputs": [],
   "source": [
    "// ML.NET \n",
    "#r \"nuget:Microsoft.ML,1.4.0\"\n",
    "#r \"nuget:Microsoft.ML.Vision,1.4.0\"\n",
    "#r \"nuget:Microsoft.ML.ImageAnalytics,1.4.0\"\n",
    "#r \"nuget:Microsoft.Data.Analysis\"\n",
    "#r \"nuget:SciSharp.TensorFlow.Redist,1.14.0\"\n",
    "\n",
    "// Utility\n",
    "#r \"nuget:Spectrogram\"\n",
    "#r \"nuget:System.Windows.Extensions\""
   ]
  },
  {
   "cell_type": "code",
   "execution_count": null,
   "id": "489859d1",
   "metadata": {},
   "outputs": [],
   "source": [
    "#r \"nuget: NAudio, 1.9.0\""
   ]
  },
  {
   "cell_type": "markdown",
   "id": "1eb1cd72",
   "metadata": {},
   "source": [
    "### Namespaces"
   ]
  },
  {
   "cell_type": "code",
   "execution_count": null,
   "id": "f34c8fa8",
   "metadata": {},
   "outputs": [],
   "source": [
    "using Microsoft.ML;\n",
    "using Microsoft.ML.Data;\n",
    "using Microsoft.ML.Transforms;\n",
    "using Microsoft.ML.Vision;\n",
    "using Microsoft.AspNetCore.Html;\n",
    "using Microsoft.DotNet.Interactive.Formatting;\n",
    "using static Microsoft.DotNet.Interactive.Formatting.PocketViewTags;\n",
    "\n",
    "using System.IO;\n",
    "using System.Net;\n",
    "using Spectrogram;\n",
    "using System.Drawing;\n",
    "using System.Drawing.Imaging;\n",
    "using System.Media;\n",
    "using System.Threading;"
   ]
  },
  {
   "cell_type": "markdown",
   "id": "33b56baf",
   "metadata": {},
   "source": [
    "### Constants and Variables"
   ]
  },
  {
   "cell_type": "code",
   "execution_count": null,
   "id": "b06cbe38",
   "metadata": {},
   "outputs": [],
   "source": [
    "// Constants\n",
    "private string MODEL_INPUT_NAME = \"modelInput\";\n",
    "private string MODEL_OUTPUT_NAME = \"modelOutput\";\n",
    "private string MODEL_FILE_NAME = \"SoundClassifier.zip\";\n",
    "private string ONNX_MODEL_FILE_NAME = \"SoundClassifier.onnx\";\n",
    "private string AUDIO_FILE_EXTENSION = \".wav\";\n",
    "private string IMAGE_FILE_EXTENSION = \".png\";\n",
    "private int IMAGE_WIDTH = 288;\n",
    "private int IMAGE_HEIGHT = 432;\n",
    "private int FFT_SIZE = 8192;\n",
    "private int STEP_SIZE = 200;\n",
    "private int MAX_FREQUENCY = 3000;\n",
    "private int MEL_BIN_COUNT = 250;\n",
    "\n",
    "// Dataset\n",
    "var CurrentWorkingDirectory = Directory.GetCurrentDirectory();\n",
    "var TempDatasetPath = @\"D:\\dataset\";\n",
    "var DatasetPath = Path.Combine(TempDatasetPath, \"Data\");\n",
    "var AudioFilePath = Path.Combine(DatasetPath, \"GroupSound\");\n",
    "var AudioImagesFilePath = Path.Combine(DatasetPath, \"GroupImages\");\n",
    "var AudioImagesFilePathAll = Path.Combine(DatasetPath, \"GroupImagesAll\");\n",
    "\n",
    "var TrainAudioImagesFilePath = Path.Combine(AudioImagesFilePath, \"train\");\n",
    "var TestAudioImagesFilePath = Path.Combine(AudioImagesFilePath, \"test\");\n",
    "var ValAudioImagesFilePath = Path.Combine(AudioImagesFilePath, \"val\");\n",
    "\n",
    "var DirectoryPath10 = Path.Combine(AudioFilePath, \"10\");\n",
    "var SampleAudioFilePath = Path.Combine(DirectoryPath10, \"F_BAC01_MC_MN_SIM01_102.wav\");\n",
    "\n",
    "var Features3SecondsPath = Path.Combine(DatasetPath, \"features_3_sec.csv\");\n",
    "\n",
    "var ModelPath = Path.Combine(CurrentWorkingDirectory, \"assets\", MODEL_FILE_NAME);\n",
    "\n",
    "\n",
    "display(SampleAudioFilePath)"
   ]
  },
  {
   "cell_type": "markdown",
   "id": "652ff776",
   "metadata": {},
   "source": [
    "### Utility Functions"
   ]
  },
  {
   "cell_type": "markdown",
   "id": "6b971576",
   "metadata": {},
   "source": [
    "#### Formatter"
   ]
  },
  {
   "cell_type": "code",
   "execution_count": null,
   "id": "a2213909",
   "metadata": {},
   "outputs": [],
   "source": [
    "// Formats the table\n",
    "Formatter.Register(typeof(Microsoft.Data.Analysis.DataFrame),(dataFrame, writer) =>\n",
    "{\n",
    "    var df = dataFrame as Microsoft.Data.Analysis.DataFrame;\n",
    "    var headers = new List<IHtmlContent>();\n",
    "    headers.Add(th(i(\"index\")));\n",
    "    headers.AddRange(df.Columns.Select(c => (IHtmlContent)th(c.Name)));\n",
    "    var rows = new List<List<IHtmlContent>>();\n",
    "    var take = 10;\n",
    "    for (var i = 0; i < Math.Min(take, df.Rows.Count); i++)\n",
    "    {\n",
    "        var cells = new List<IHtmlContent>();\n",
    "        cells.Add(td(i));\n",
    "        foreach (var obj in df.Rows[i])\n",
    "        {\n",
    "            cells.Add(td(obj));\n",
    "        }\n",
    "        rows.Add(cells);\n",
    "    }\n",
    "\n",
    "    var t = table(\n",
    "        thead(\n",
    "            headers),\n",
    "        tbody(\n",
    "            rows.Select(\n",
    "                r => tr(r))));\n",
    "\n",
    "    writer.Write(t);\n",
    "}, \"text/html\");"
   ]
  },
  {
   "cell_type": "markdown",
   "id": "42c2f235",
   "metadata": {},
   "source": [
    "#### Play Audio"
   ]
  },
  {
   "cell_type": "code",
   "execution_count": null,
   "id": "03b99655",
   "metadata": {},
   "outputs": [],
   "source": [
    "public void PlayAudio(string file)\n",
    "{\n",
    "    // Windows OS Specific\n",
    "    SoundPlayer player = new SoundPlayer(file);\n",
    "    player.Play();\n",
    "    \n",
    "    Thread.Sleep(5000);\n",
    "    \n",
    "    player.Stop();\n",
    "}"
   ]
  },
  {
   "cell_type": "markdown",
   "id": "9a0dbe73",
   "metadata": {},
   "source": [
    "#### Display Image"
   ]
  },
  {
   "cell_type": "code",
   "execution_count": null,
   "id": "18394dbb",
   "metadata": {},
   "outputs": [],
   "source": [
    "public void DisplayImage(string file)\n",
    "{\n",
    "    var data = File.ReadAllBytes(file);\n",
    "    // Convert so we can display it as HTML\n",
    "    var b64 = Convert.ToBase64String(data);\n",
    "    display(HTML($\"<img src=\\\"data:image/png;base64,{b64}\\\"></img>\")); // last call without ; gets displayed\n",
    "}"
   ]
  },
  {
   "cell_type": "markdown",
   "id": "0b211b1d",
   "metadata": {},
   "source": [
    "#### Plot Spectrogram"
   ]
  },
  {
   "cell_type": "code",
   "execution_count": null,
   "id": "11bd97b5",
   "metadata": {},
   "outputs": [],
   "source": [
    "public void PlotSpectrogram(int sampleRate, IEnumerable<double> audio, string saveFilePath)\n",
    "{\n",
    "    var sg = new SpectrogramGenerator(sampleRate, fftSize: FFT_SIZE, stepSize: STEP_SIZE, maxFreq: MAX_FREQUENCY);\n",
    "    sg.Add(audio);\n",
    "    sg.Colormap = Colormap.Viridis;\n",
    "    sg.SaveImage(saveFilePath);\n",
    "}"
   ]
  },
  {
   "cell_type": "markdown",
   "id": "5787c52f",
   "metadata": {},
   "source": [
    "#### Plot Mel-Spectrogram"
   ]
  },
  {
   "cell_type": "code",
   "execution_count": null,
   "id": "6aee7b52",
   "metadata": {},
   "outputs": [],
   "source": [
    "public void PlotMelSpectrogram(int sampleRate, IEnumerable<double> audio, string saveFilePath)\n",
    "{\n",
    "    var sg = new SpectrogramGenerator(sampleRate, fftSize: FFT_SIZE, stepSize: STEP_SIZE, maxFreq: MAX_FREQUENCY);\n",
    "    sg.Add(audio);\n",
    "    Bitmap bmp = sg.GetBitmapMel(melBinCount: MEL_BIN_COUNT);\n",
    "    bmp.Save(saveFilePath, ImageFormat.Png);\n",
    "    display($\"File saved at {saveFilePath}\");\n",
    "}"
   ]
  },
  {
   "cell_type": "markdown",
   "id": "420ff737",
   "metadata": {},
   "source": [
    "#### Create Directory with all images"
   ]
  },
  {
   "cell_type": "code",
   "execution_count": null,
   "id": "09f55fde",
   "metadata": {},
   "outputs": [],
   "source": [
    "public void CopyAllAudioImagesToADirectory()\n",
    "{\n",
    "    var isAllImageDatasetExist = Directory.Exists(AudioImagesFilePathAll);\n",
    "    display(isAllImageDatasetExist);\n",
    "    if (isAllImageDatasetExist == false)\n",
    "    {\n",
    "        Directory.CreateDirectory(AudioImagesFilePathAll);\n",
    "        var labels = Directory.EnumerateDirectories(AudioImagesFilePath);\n",
    "        foreach (var label in labels)\n",
    "        {\n",
    "            // Copy Files\n",
    "            var sourcePath = Path.Combine(AudioImagesFilePath, label);\n",
    "            var allFiles = Directory.EnumerateFiles(sourcePath).ToList();\n",
    "            foreach (var file in allFiles)\n",
    "            {\n",
    "                File.Copy(file, Path.Combine(AudioImagesFilePathAll, Path.GetFileName(file)));\n",
    "            }\n",
    "        }\n",
    "    }\n",
    "}"
   ]
  },
  {
   "cell_type": "markdown",
   "id": "fed6b060",
   "metadata": {},
   "source": [
    "#### Split Dataset"
   ]
  },
  {
   "cell_type": "code",
   "execution_count": null,
   "id": "6c07fd05",
   "metadata": {},
   "outputs": [],
   "source": [
    "private static void SplitDataset(string directory, string[] labels)\n",
    "{\n",
    "    var trainPath = Path.Combine(directory, \"train\");\n",
    "    var testPath = Path.Combine(directory, \"test\");\n",
    "    var validationPath = Path.Combine(directory, \"val\");\n",
    "\n",
    "    // Train\n",
    "    if (!Directory.Exists(trainPath))\n",
    "    {\n",
    "        Directory.CreateDirectory(trainPath);\n",
    "        foreach (var label in labels)\n",
    "        {\n",
    "            var subDirectory = Path.Combine(trainPath, label);\n",
    "            Directory.CreateDirectory(subDirectory);\n",
    "\n",
    "            // Copy Files\n",
    "            var sourcePath = Path.Combine(directory, label);\n",
    "            var top70Files = Directory.EnumerateFiles(sourcePath).Take(70);\n",
    "            foreach (var file in top70Files)\n",
    "            {\n",
    "                File.Copy(file, Path.Combine(subDirectory, Path.GetFileName(file)));\n",
    "            }\n",
    "        }\n",
    "    }\n",
    "\n",
    "    // Test\n",
    "    if (!Directory.Exists(testPath))\n",
    "    {\n",
    "        Directory.CreateDirectory(testPath);\n",
    "        foreach (var label in labels)\n",
    "        {\n",
    "            var subDirectory = Path.Combine(testPath, label);\n",
    "            Directory.CreateDirectory(subDirectory);\n",
    "\n",
    "            // Copy Files\n",
    "            var sourcePath = Path.Combine(directory, label);\n",
    "            var allFiles = Directory.EnumerateFiles(sourcePath).ToList();\n",
    "            var testFiles = allFiles.GetRange(70, 20);\n",
    "            foreach (var file in testFiles)\n",
    "            {\n",
    "                File.Copy(file, Path.Combine(subDirectory, Path.GetFileName(file)));\n",
    "            }\n",
    "        }\n",
    "    }\n",
    "\n",
    "    // Validation\n",
    "    if (!Directory.Exists(validationPath))\n",
    "    {\n",
    "        Directory.CreateDirectory(validationPath);\n",
    "        foreach (var label in labels)\n",
    "        {\n",
    "            var subDirectory = Path.Combine(validationPath, label);\n",
    "            Directory.CreateDirectory(subDirectory);\n",
    "\n",
    "            // Copy Files\n",
    "            var sourcePath = Path.Combine(directory, label);\n",
    "            var allFiles = Directory.EnumerateFiles(sourcePath).ToList();\n",
    "            var testFiles = allFiles.GetRange(90, 10);\n",
    "            foreach (var file in testFiles)\n",
    "            {\n",
    "                File.Copy(file, Path.Combine(subDirectory, Path.GetFileName(file)));\n",
    "            }\n",
    "        }\n",
    "    }\n",
    "}"
   ]
  },
  {
   "cell_type": "markdown",
   "id": "444eb061",
   "metadata": {},
   "source": [
    "### Load Dataset"
   ]
  },
  {
   "cell_type": "code",
   "execution_count": null,
   "id": "d5be5624",
   "metadata": {},
   "outputs": [],
   "source": [
    "var isDatasetAlreadyDownloaded = Directory.Exists(DatasetPath);\n",
    "display(isDatasetAlreadyDownloaded)"
   ]
  },
  {
   "cell_type": "code",
   "execution_count": null,
   "id": "c04374b9",
   "metadata": {},
   "outputs": [],
   "source": [
    "var soundDataFrame = Microsoft.Data.Analysis.DataFrame.LoadCsv(Features3SecondsPath);"
   ]
  },
  {
   "cell_type": "code",
   "execution_count": null,
   "id": "0a01a0dc",
   "metadata": {},
   "outputs": [],
   "source": [
    "soundDataFrame.Head(5)"
   ]
  },
  {
   "cell_type": "code",
   "execution_count": null,
   "id": "ad780029",
   "metadata": {},
   "outputs": [],
   "source": [
    "soundDataFrame.Tail(5)"
   ]
  },
  {
   "cell_type": "code",
   "execution_count": null,
   "id": "a1168d32",
   "metadata": {},
   "outputs": [],
   "source": [
    "soundDataFrame.Info()"
   ]
  },
  {
   "cell_type": "code",
   "execution_count": null,
   "id": "298a8181",
   "metadata": {},
   "outputs": [],
   "source": [
    "soundDataFrame.Description()"
   ]
  },
  {
   "cell_type": "markdown",
   "id": "89df01c2",
   "metadata": {},
   "source": [
    "#### Classes"
   ]
  },
  {
   "cell_type": "code",
   "execution_count": null,
   "id": "5f3bb89a",
   "metadata": {},
   "outputs": [],
   "source": [
    "Microsoft.Data.Analysis.DataFrame groupedDataFrameLabel = soundDataFrame.GroupBy(\"label\").Sum(\"label\");\n",
    "List<string> classes = new List<string>();\n",
    "foreach(string label in groupedDataFrameLabel[\"label\"])\n",
    "{\n",
    "    classes.Add(label);\n",
    "}"
   ]
  },
  {
   "cell_type": "code",
   "execution_count": null,
   "id": "0bbef00f",
   "metadata": {},
   "outputs": [],
   "source": [
    "classes"
   ]
  },
  {
   "cell_type": "markdown",
   "id": "a42f238a",
   "metadata": {},
   "source": [
    "### Analyze Audio Data"
   ]
  },
  {
   "cell_type": "markdown",
   "id": "a2a76c73",
   "metadata": {},
   "source": [
    "#### Metadata"
   ]
  },
  {
   "cell_type": "code",
   "execution_count": null,
   "id": "6dbbf7ae",
   "metadata": {},
   "outputs": [],
   "source": [
    "// Load Audio file\n",
    "public (double[] audio, int sampleRate) ReadWavMono(string filePath, double multiplier = 16_000)\n",
    "{\n",
    "    using var afr = new NAudio.Wave.AudioFileReader(filePath);\n",
    "    int sampleRate = afr.WaveFormat.SampleRate;\n",
    "    int bytesPerSample = afr.WaveFormat.BitsPerSample / 8;\n",
    "    int sampleCount = (int)(afr.Length / bytesPerSample);\n",
    "    int channelCount = afr.WaveFormat.Channels;\n",
    "    long fileSizeInKB = afr.Length / 1024;\n",
    "    \n",
    "    var audio = new List<double>(sampleCount);\n",
    "    var buffer = new float[sampleRate * channelCount];\n",
    "    int samplesRead = 0;\n",
    "    while ((samplesRead = afr.Read(buffer, 0, buffer.Length)) > 0)\n",
    "        audio.AddRange(buffer.Take(samplesRead).Select(x => x * multiplier));\n",
    "        \n",
    "    display(\"************ AUDIO METADATA ***************\");\n",
    "    display($\"Sample Rate              : {sampleRate}\");\n",
    "    display($\"Number of Channels       : {channelCount}\");\n",
    "    display($\"Bytes per sample         : {bytesPerSample}\");\n",
    "    display($\"Sample Count             : {sampleCount}\");\n",
    "    display($\"File Size in KB          : {fileSizeInKB} KB\");\n",
    "    display(\"******************************************\");\n",
    "    \n",
    "    return (audio.ToArray(), sampleRate);\n",
    "}\n"
   ]
  },
  {
   "cell_type": "code",
   "execution_count": null,
   "id": "768ba6f3",
   "metadata": {},
   "outputs": [],
   "source": [
    "(double[] audio, int sampleRate) = ReadWavMono(SampleAudioFilePath);"
   ]
  },
  {
   "cell_type": "markdown",
   "id": "6416a26d",
   "metadata": {},
   "source": [
    "#### Play Audio"
   ]
  },
  {
   "cell_type": "code",
   "execution_count": null,
   "id": "8b1ef3b8",
   "metadata": {},
   "outputs": [],
   "source": [
    "PlayAudio(SampleAudioFilePath)"
   ]
  },
  {
   "cell_type": "markdown",
   "id": "50c7489e",
   "metadata": {},
   "source": [
    "#### Spectrogram"
   ]
  },
  {
   "cell_type": "code",
   "execution_count": null,
   "id": "0890dee3",
   "metadata": {},
   "outputs": [],
   "source": [
    "string savePath = $\"{Path.GetFileNameWithoutExtension(SampleAudioFilePath)}-spectro.png\";\n",
    "PlotSpectrogram(sampleRate, audio, savePath);"
   ]
  },
  {
   "cell_type": "code",
   "execution_count": null,
   "id": "20b1d837",
   "metadata": {},
   "outputs": [],
   "source": [
    "display(savePath);\n",
    "DisplayImage(savePath);"
   ]
  },
  {
   "cell_type": "markdown",
   "id": "e66ffbc0",
   "metadata": {},
   "source": [
    "#### Mel Spectrogram"
   ]
  },
  {
   "cell_type": "code",
   "execution_count": null,
   "id": "0cfc912d",
   "metadata": {},
   "outputs": [],
   "source": [
    "string melSavePath = $\"{Path.GetFileNameWithoutExtension(SampleAudioFilePath)}-melspectro\";\n",
    "PlotMelSpectrogram(sampleRate, audio, savePath);"
   ]
  },
  {
   "cell_type": "markdown",
   "id": "52b44ef6",
   "metadata": {},
   "source": [
    "## Machine learning"
   ]
  },
  {
   "cell_type": "markdown",
   "id": "eb62f4a1",
   "metadata": {},
   "source": [
    "#### Prepare Dataset"
   ]
  },
  {
   "cell_type": "code",
   "execution_count": null,
   "id": "82d187fb",
   "metadata": {},
   "outputs": [],
   "source": [
    "display(Directory.GetCurrentDirectory());"
   ]
  },
  {
   "cell_type": "code",
   "execution_count": null,
   "id": "53f935a9",
   "metadata": {},
   "outputs": [],
   "source": [
    "CopyAllAudioImagesToADirectory();"
   ]
  },
  {
   "cell_type": "markdown",
   "id": "110da0b9",
   "metadata": {},
   "source": [
    "### Load Dataset"
   ]
  },
  {
   "cell_type": "markdown",
   "id": "69a5dbc3",
   "metadata": {},
   "source": [
    "#### Data Classes"
   ]
  },
  {
   "cell_type": "code",
   "execution_count": null,
   "id": "71376aa1",
   "metadata": {},
   "outputs": [],
   "source": [
    "public struct ImageSettings\n",
    "{\n",
    "    public const int Height = 288;\n",
    "    public const int Width = 432;\n",
    "}"
   ]
  },
  {
   "cell_type": "code",
   "execution_count": null,
   "id": "c9f7999f",
   "metadata": {},
   "outputs": [],
   "source": [
    "public class ImageData\n",
    "{\n",
    "    public string ImagePath { get; set; }\n",
    "\n",
    "    public string Label { get; set; }\n",
    "}"
   ]
  },
  {
   "cell_type": "code",
   "execution_count": null,
   "id": "4b0837e0",
   "metadata": {},
   "outputs": [],
   "source": [
    "public class ModelInput\n",
    "{\n",
    "    public byte[] Image { get; set; }\n",
    "    \n",
    "    public UInt32 LabelAsKey { get; set; }\n",
    "\n",
    "    public string ImagePath { get; set; }\n",
    "\n",
    "    public string Label { get; set; }\n",
    "}"
   ]
  },
  {
   "cell_type": "code",
   "execution_count": null,
   "id": "7c19a439",
   "metadata": {},
   "outputs": [],
   "source": [
    "public class ModelOutput\n",
    "{\n",
    "    public string ImagePath { get; set; }\n",
    "\n",
    "    public string Label { get; set; }\n",
    "\n",
    "    public string PredictedLabel { get; set; }\n",
    "}"
   ]
  },
  {
   "cell_type": "code",
   "execution_count": null,
   "id": "148433ef",
   "metadata": {},
   "outputs": [],
   "source": [
    "public void DisplayOutcome(ModelOutput prediction)\n",
    "{\n",
    "    display(\"************ Classification Outcome *************\");\n",
    "    display($\"File             : {Path.GetFileName(prediction.ImagePath)}\");\n",
    "    display($\"Expected Genre   : {prediction.Label}\");\n",
    "    display($\"Predicted Genre: : {prediction.PredictedLabel}\");\n",
    "    display(\"*************************************************\");\n",
    "}"
   ]
  },
  {
   "cell_type": "markdown",
   "id": "91997328",
   "metadata": {},
   "source": [
    "#### Load Images from Directory"
   ]
  },
  {
   "cell_type": "code",
   "execution_count": null,
   "id": "5bd7218f",
   "metadata": {},
   "outputs": [],
   "source": [
    "public static IEnumerable<ImageData> LoadImagesFromDirectory(string folder, bool useFolderNameAsLabel = true)\n",
    "{\n",
    "    var files = Directory.GetFiles(folder, \"*\",\n",
    "        searchOption: SearchOption.AllDirectories);\n",
    "\n",
    "    foreach (var file in files)\n",
    "    {\n",
    "        if ((Path.GetExtension(file) != \".jpg\") && (Path.GetExtension(file) != \".png\"))\n",
    "            continue;\n",
    "\n",
    "        var label = Path.GetFileName(file);\n",
    "\n",
    "        if (useFolderNameAsLabel)\n",
    "            label = Directory.GetParent(file).Name;\n",
    "        else\n",
    "        {\n",
    "            for (int index = 0; index < label.Length; index++)\n",
    "            {\n",
    "                if (!char.IsLetter(label[index]))\n",
    "                {\n",
    "                    label = label.Substring(0, index);\n",
    "                    break;\n",
    "                }\n",
    "            }\n",
    "        }\n",
    "\n",
    "        yield return new ImageData()\n",
    "        {\n",
    "            ImagePath = file,\n",
    "            Label = label\n",
    "        };\n",
    "    }\n",
    "}"
   ]
  },
  {
   "cell_type": "code",
   "execution_count": null,
   "id": "cfff5a75",
   "metadata": {},
   "outputs": [],
   "source": [
    "var images = LoadImagesFromDirectory(AudioImagesFilePath).Take(500);\n",
    "display(images.Count());"
   ]
  },
  {
   "cell_type": "markdown",
   "id": "8847808f",
   "metadata": {},
   "source": [
    "#### Build ML Pipeline"
   ]
  },
  {
   "cell_type": "code",
   "execution_count": null,
   "id": "6df24fa4",
   "metadata": {},
   "outputs": [],
   "source": [
    "var mlContext = new MLContext(seed: 1);\n",
    "var dataView = mlContext.Data.LoadFromEnumerable(images);\n",
    "dataView = mlContext.Data.ShuffleRows(dataView);"
   ]
  },
  {
   "cell_type": "code",
   "execution_count": null,
   "id": "13e0b542",
   "metadata": {},
   "outputs": [],
   "source": [
    "var imagesDataset = mlContext.Transforms.Conversion.MapValueToKey(outputColumnName: \"LabelAsKey\",\n",
    "                                        inputColumnName: \"Label\",\n",
    "                                        keyOrdinality: ValueToKeyMappingEstimator.KeyOrdinality.ByValue)\n",
    "                                        .Append(mlContext.Transforms.LoadRawImageBytes(outputColumnName: \"Image\",\n",
    "                                                                    imageFolder: AudioImagesFilePathAll,\n",
    "                                                                    inputColumnName: \"ImagePath\"))\n",
    "                                        .Fit(dataView)\n",
    "                                        .Transform(dataView);"
   ]
  },
  {
   "cell_type": "markdown",
   "id": "936f0da2",
   "metadata": {},
   "source": [
    "##### Split Dataset : Train/Test - 70:30"
   ]
  },
  {
   "cell_type": "code",
   "execution_count": null,
   "id": "ad5d9f10",
   "metadata": {},
   "outputs": [],
   "source": [
    "var trainTestSplit = mlContext.Data.TrainTestSplit(imagesDataset, 0.3);\n",
    "\n",
    "var testSet = trainTestSplit.TestSet;\n",
    "var trainSet = trainTestSplit.TrainSet;"
   ]
  },
  {
   "cell_type": "code",
   "execution_count": null,
   "id": "836d29a2",
   "metadata": {},
   "outputs": [],
   "source": [
    "display(mlContext.Data.CreateEnumerable<ModelInput>(testSet,reuseRowObject:true).Count());\n",
    "display(mlContext.Data.CreateEnumerable<ModelInput>(trainSet,reuseRowObject:true).Count());"
   ]
  },
  {
   "cell_type": "code",
   "execution_count": null,
   "id": "e619b9a1",
   "metadata": {},
   "outputs": [],
   "source": [
    "var options = new ImageClassificationTrainer.Options()\n",
    "{\n",
    "    FeatureColumnName = \"Image\",\n",
    "    LabelColumnName = \"LabelAsKey\",\n",
    "    Arch = ImageClassificationTrainer.Architecture.ResnetV250,\n",
    "    Epoch = 2,\n",
    "    BatchSize = 10,\n",
    "    LearningRate = 0.01f,\n",
    "    MetricsCallback = (metrics) => Console.WriteLine(metrics),\n",
    "    ValidationSet = testSet\n",
    "};\n",
    "\n",
    "var trainingPipeline = mlContext.MulticlassClassification.Trainers.ImageClassification(options)\n",
    "        .Append(mlContext.Transforms.Conversion.MapKeyToValue(\n",
    "            outputColumnName: \"PredictedLabel\",\n",
    "            inputColumnName: \"PredictedLabel\"));"
   ]
  },
  {
   "cell_type": "markdown",
   "id": "5e77a766",
   "metadata": {},
   "source": [
    "### Train Model"
   ]
  },
  {
   "cell_type": "code",
   "execution_count": null,
   "id": "f5779160",
   "metadata": {},
   "outputs": [],
   "source": [
    "ITransformer model = trainingPipeline.Fit(trainSet);"
   ]
  },
  {
   "cell_type": "markdown",
   "id": "061312ea",
   "metadata": {},
   "source": [
    "### Evaluate Model"
   ]
  },
  {
   "cell_type": "code",
   "execution_count": null,
   "id": "01bbdcf7",
   "metadata": {},
   "outputs": [],
   "source": [
    "var predicitions = model.Transform(testSet);\n",
    "var metrics = mlContext.MulticlassClassification.Evaluate(predicitions, labelColumnName: \"LabelAsKey\", predictedLabelColumnName: \"PredictedLabel\");\n",
    "display(metrics);"
   ]
  },
  {
   "cell_type": "markdown",
   "id": "812b7d6d",
   "metadata": {},
   "source": [
    "### Prediction"
   ]
  },
  {
   "cell_type": "code",
   "execution_count": null,
   "id": "ac74fad9",
   "metadata": {},
   "outputs": [],
   "source": [
    "var testInputs = mlContext.Data.CreateEnumerable<ModelInput>(testSet,reuseRowObject:true);\n",
    "display(testInputs.Count());"
   ]
  },
  {
   "cell_type": "code",
   "execution_count": null,
   "id": "82b69397",
   "metadata": {},
   "outputs": [],
   "source": [
    "var predictionEngine = mlContext.Model.CreatePredictionEngine<ModelInput, ModelOutput>(model);\n",
    "ModelInput image = testInputs.ElementAt(6);\n",
    "\n",
    "var prediction = predictionEngine.Predict(image);"
   ]
  },
  {
   "cell_type": "markdown",
   "id": "f75105da",
   "metadata": {},
   "source": [
    "#### Success"
   ]
  },
  {
   "cell_type": "code",
   "execution_count": null,
   "id": "f5ff0969",
   "metadata": {},
   "outputs": [],
   "source": [
    "DisplayOutcome(prediction);"
   ]
  },
  {
   "cell_type": "markdown",
   "id": "9f6a0292",
   "metadata": {},
   "source": [
    "#### Failure"
   ]
  },
  {
   "cell_type": "code",
   "execution_count": null,
   "id": "c6c64fd7",
   "metadata": {},
   "outputs": [],
   "source": [
    "ModelInput image = testInputs.ElementAt(5);\n",
    "\n",
    "var prediction = predictionEngine.Predict(image);"
   ]
  },
  {
   "cell_type": "code",
   "execution_count": null,
   "id": "d4bb0dbf",
   "metadata": {},
   "outputs": [],
   "source": [
    "DisplayOutcome(prediction);"
   ]
  },
  {
   "cell_type": "markdown",
   "id": "70fb4cec",
   "metadata": {},
   "source": [
    "### Save Model"
   ]
  },
  {
   "cell_type": "code",
   "execution_count": null,
   "id": "789e379e",
   "metadata": {},
   "outputs": [],
   "source": [
    "mlContext.Model.Save(model, trainSet.Schema, MODEL_FILE_NAME);"
   ]
  },
  {
   "cell_type": "code",
   "execution_count": null,
   "id": "1593969e",
   "metadata": {},
   "outputs": [],
   "source": [
    "// Model File size\n",
    "FileInfo fi = new FileInfo(MODEL_FILE_NAME);\n",
    "display($\"Model File size: {fi.Length / (1024 * 1024)} MB\");"
   ]
  }
 ],
 "metadata": {
  "kernelspec": {
   "display_name": "Python 3.9.13 64-bit (microsoft store)",
   "language": "python",
   "name": "python3"
  },
  "language_info": {
   "codemirror_mode": {
    "name": "ipython",
    "version": 3
   },
   "file_extension": ".py",
   "mimetype": "text/x-python",
   "name": "python",
   "nbconvert_exporter": "python",
   "pygments_lexer": "ipython3",
   "version": "3.9.13"
  },
  "vscode": {
   "interpreter": {
    "hash": "330291e952ef2592d61b7857e145d2070e6df96cbb58463d8ee825546f424b29"
   }
  }
 },
 "nbformat": 4,
 "nbformat_minor": 5
}
